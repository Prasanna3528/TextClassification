{
  "nbformat": 4,
  "nbformat_minor": 0,
  "metadata": {
    "colab": {
      "provenance": [],
      "authorship_tag": "ABX9TyMhg0YWiwI3MoSRiCNFTuGR",
      "include_colab_link": true
    },
    "kernelspec": {
      "name": "python3",
      "display_name": "Python 3"
    },
    "language_info": {
      "name": "python"
    }
  },
  "cells": [
    {
      "cell_type": "markdown",
      "metadata": {
        "id": "view-in-github",
        "colab_type": "text"
      },
      "source": [
        "<a href=\"https://colab.research.google.com/github/Prasanna3528/TextClassification/blob/main/Code_Assgn2.ipynb\" target=\"_parent\"><img src=\"https://colab.research.google.com/assets/colab-badge.svg\" alt=\"Open In Colab\"/></a>"
      ]
    },
    {
      "cell_type": "code",
      "execution_count": 2,
      "metadata": {
        "colab": {
          "base_uri": "https://localhost:8080/"
        },
        "id": "w6smJr7NIu1q",
        "outputId": "84079a92-701e-4681-9e75-d704ed1f1965"
      },
      "outputs": [
        {
          "output_type": "stream",
          "name": "stdout",
          "text": [
            "Dataset URL: https://www.kaggle.com/datasets/purusinghvi/email-spam-classification-dataset\n",
            "License(s): MIT\n",
            "email-spam-classification-dataset.zip: Skipping, found more recently modified local copy (use --force to force download)\n"
          ]
        }
      ],
      "source": [
        "# Code to Access the csv files directly from Kaggle\n",
        "import json\n",
        "\n",
        "# including the API credentials for kaggle\n",
        "APICredsKaggle = {\n",
        "    \"username\": \"mandavalakshmip\",\n",
        "    \"key\": \"815aeb0f2e186d9ee02dd4cdd782f769\"\n",
        "}\n",
        "\n",
        "# Appending the Credentials into Json file and access granting to files\n",
        "with open('kaggle.json', 'w') as file:\n",
        "    json.dump(APICredsKaggle, file)\n",
        "!mkdir -p ~/.kaggle\n",
        "!cp kaggle.json ~/.kaggle/\n",
        "!chmod 600 ~/.kaggle/kaggle.json\n",
        "\n",
        "# Path to Access the CSV from Kaggle Data source\n",
        "!kaggle datasets download -d purusinghvi/email-spam-classification-dataset\n",
        "\n",
        "# Unzipping the downloaded dataset and storing in directory in Colab\n",
        "!unzip -q email-spam-classification-dataset.zip -d SpamEmailData_Org\n"
      ]
    }
  ]
}